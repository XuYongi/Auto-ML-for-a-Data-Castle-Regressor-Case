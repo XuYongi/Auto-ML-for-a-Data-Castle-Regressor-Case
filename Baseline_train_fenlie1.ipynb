{
 "cells": [
  {
   "cell_type": "markdown",
   "metadata": {},
   "source": [
    "###  数据解析"
   ]
  },
  {
   "cell_type": "code",
   "execution_count": 14,
   "metadata": {},
   "outputs": [],
   "source": [
    "# Import required libraries\n",
    "from tpot import TPOTRegressor\n",
    "from sklearn.model_selection import train_test_split\n",
    "import pandas as pd \n",
    "import numpy as np"
   ]
  },
  {
   "cell_type": "code",
   "execution_count": 15,
   "metadata": {},
   "outputs": [
    {
     "data": {
      "text/html": [
       "<div>\n",
       "<style scoped>\n",
       "    .dataframe tbody tr th:only-of-type {\n",
       "        vertical-align: middle;\n",
       "    }\n",
       "\n",
       "    .dataframe tbody tr th {\n",
       "        vertical-align: top;\n",
       "    }\n",
       "\n",
       "    .dataframe thead th {\n",
       "        text-align: right;\n",
       "    }\n",
       "</style>\n",
       "<table border=\"1\" class=\"dataframe\">\n",
       "  <thead>\n",
       "    <tr style=\"text-align: right;\">\n",
       "      <th></th>\n",
       "      <th>ID</th>\n",
       "      <th>Molecule_max_phase</th>\n",
       "      <th>Molecular weight</th>\n",
       "      <th>RO5_violations</th>\n",
       "      <th>AlogP</th>\n",
       "      <th>Label</th>\n",
       "      <th>features_5</th>\n",
       "      <th>features_7</th>\n",
       "      <th>features_8</th>\n",
       "      <th>features_9</th>\n",
       "      <th>...</th>\n",
       "      <th>features_3159</th>\n",
       "      <th>features_3160</th>\n",
       "      <th>features_3161</th>\n",
       "      <th>features_3162</th>\n",
       "      <th>features_3163</th>\n",
       "      <th>features_3164</th>\n",
       "      <th>features_3165</th>\n",
       "      <th>features_3166</th>\n",
       "      <th>features_3167</th>\n",
       "      <th>features_3168</th>\n",
       "    </tr>\n",
       "  </thead>\n",
       "  <tbody>\n",
       "    <tr>\n",
       "      <th>0</th>\n",
       "      <td>1003</td>\n",
       "      <td>0</td>\n",
       "      <td>0.206754</td>\n",
       "      <td>0.0</td>\n",
       "      <td>0.608040</td>\n",
       "      <td>3.190476</td>\n",
       "      <td>0</td>\n",
       "      <td>2</td>\n",
       "      <td>0</td>\n",
       "      <td>10</td>\n",
       "      <td>...</td>\n",
       "      <td>0.337172495</td>\n",
       "      <td>-0.388373413</td>\n",
       "      <td>0</td>\n",
       "      <td>176</td>\n",
       "      <td>448.539</td>\n",
       "      <td>2.33420</td>\n",
       "      <td>8</td>\n",
       "      <td>2</td>\n",
       "      <td>88.73</td>\n",
       "      <td>5</td>\n",
       "    </tr>\n",
       "    <tr>\n",
       "      <th>1</th>\n",
       "      <td>1819</td>\n",
       "      <td>0</td>\n",
       "      <td>0.130056</td>\n",
       "      <td>0.0</td>\n",
       "      <td>0.591848</td>\n",
       "      <td>9.740969</td>\n",
       "      <td>0</td>\n",
       "      <td>0</td>\n",
       "      <td>0</td>\n",
       "      <td>5</td>\n",
       "      <td>...</td>\n",
       "      <td>0.184109041</td>\n",
       "      <td>-0.381651516</td>\n",
       "      <td>0</td>\n",
       "      <td>118</td>\n",
       "      <td>310.361</td>\n",
       "      <td>2.03960</td>\n",
       "      <td>7</td>\n",
       "      <td>2</td>\n",
       "      <td>91.74</td>\n",
       "      <td>3</td>\n",
       "    </tr>\n",
       "    <tr>\n",
       "      <th>2</th>\n",
       "      <td>6090</td>\n",
       "      <td>0</td>\n",
       "      <td>0.162482</td>\n",
       "      <td>0.0</td>\n",
       "      <td>0.592965</td>\n",
       "      <td>10.545341</td>\n",
       "      <td>0</td>\n",
       "      <td>0</td>\n",
       "      <td>0</td>\n",
       "      <td>3</td>\n",
       "      <td>...</td>\n",
       "      <td>0.262929532</td>\n",
       "      <td>-0.337353934</td>\n",
       "      <td>0</td>\n",
       "      <td>130</td>\n",
       "      <td>368.784</td>\n",
       "      <td>2.05640</td>\n",
       "      <td>8</td>\n",
       "      <td>0</td>\n",
       "      <td>99.59</td>\n",
       "      <td>5</td>\n",
       "    </tr>\n",
       "    <tr>\n",
       "      <th>3</th>\n",
       "      <td>3916</td>\n",
       "      <td>0</td>\n",
       "      <td>0.112266</td>\n",
       "      <td>0.0</td>\n",
       "      <td>0.652150</td>\n",
       "      <td>3.206803</td>\n",
       "      <td>0</td>\n",
       "      <td>1</td>\n",
       "      <td>0</td>\n",
       "      <td>0</td>\n",
       "      <td>...</td>\n",
       "      <td>0.345461189</td>\n",
       "      <td>-0.507686517</td>\n",
       "      <td>0</td>\n",
       "      <td>104</td>\n",
       "      <td>278.311</td>\n",
       "      <td>3.11792</td>\n",
       "      <td>4</td>\n",
       "      <td>2</td>\n",
       "      <td>65.98</td>\n",
       "      <td>2</td>\n",
       "    </tr>\n",
       "    <tr>\n",
       "      <th>4</th>\n",
       "      <td>8480</td>\n",
       "      <td>0</td>\n",
       "      <td>0.161722</td>\n",
       "      <td>0.0</td>\n",
       "      <td>0.741485</td>\n",
       "      <td>10.950807</td>\n",
       "      <td>0</td>\n",
       "      <td>1</td>\n",
       "      <td>0</td>\n",
       "      <td>0</td>\n",
       "      <td>...</td>\n",
       "      <td>0.302594082</td>\n",
       "      <td>-0.467687072</td>\n",
       "      <td>0</td>\n",
       "      <td>136</td>\n",
       "      <td>367.412</td>\n",
       "      <td>4.72090</td>\n",
       "      <td>6</td>\n",
       "      <td>1</td>\n",
       "      <td>64.86</td>\n",
       "      <td>4</td>\n",
       "    </tr>\n",
       "  </tbody>\n",
       "</table>\n",
       "<p>5 rows × 30 columns</p>\n",
       "</div>"
      ],
      "text/plain": [
       "     ID  Molecule_max_phase  Molecular weight  RO5_violations     AlogP  \\\n",
       "0  1003                   0          0.206754             0.0  0.608040   \n",
       "1  1819                   0          0.130056             0.0  0.591848   \n",
       "2  6090                   0          0.162482             0.0  0.592965   \n",
       "3  3916                   0          0.112266             0.0  0.652150   \n",
       "4  8480                   0          0.161722             0.0  0.741485   \n",
       "\n",
       "       Label  features_5  features_7  features_8  features_9  ...  \\\n",
       "0   3.190476           0           2           0          10  ...   \n",
       "1   9.740969           0           0           0           5  ...   \n",
       "2  10.545341           0           0           0           3  ...   \n",
       "3   3.206803           0           1           0           0  ...   \n",
       "4  10.950807           0           1           0           0  ...   \n",
       "\n",
       "   features_3159  features_3160  features_3161  features_3162  features_3163  \\\n",
       "0    0.337172495   -0.388373413              0            176        448.539   \n",
       "1    0.184109041   -0.381651516              0            118        310.361   \n",
       "2    0.262929532   -0.337353934              0            130        368.784   \n",
       "3    0.345461189   -0.507686517              0            104        278.311   \n",
       "4    0.302594082   -0.467687072              0            136        367.412   \n",
       "\n",
       "   features_3164  features_3165  features_3166 features_3167 features_3168  \n",
       "0        2.33420              8              2         88.73             5  \n",
       "1        2.03960              7              2         91.74             3  \n",
       "2        2.05640              8              0         99.59             5  \n",
       "3        3.11792              4              2         65.98             2  \n",
       "4        4.72090              6              1         64.86             4  \n",
       "\n",
       "[5 rows x 30 columns]"
      ]
     },
     "execution_count": 15,
     "metadata": {},
     "output_type": "execute_result"
    }
   ],
   "source": [
    "# Load the data\n",
    "medical = pd.read_csv('train_fenlie1.csv', low_memory=False)\n",
    "medical.head(5)"
   ]
  },
  {
   "cell_type": "markdown",
   "metadata": {},
   "source": [
    "### 数据整理"
   ]
  },
  {
   "cell_type": "code",
   "execution_count": 16,
   "metadata": {},
   "outputs": [
    {
     "data": {
      "text/plain": [
       "ID                      int64\n",
       "Molecule_max_phase      int64\n",
       "Molecular weight      float64\n",
       "RO5_violations        float64\n",
       "AlogP                 float64\n",
       "Label                 float64\n",
       "features_5              int64\n",
       "features_7              int64\n",
       "features_8              int64\n",
       "features_9              int64\n",
       "features_10             int64\n",
       "features_11             int64\n",
       "features_12             int64\n",
       "features_3152         float64\n",
       "features_3153         float64\n",
       "features_3154         float64\n",
       "features_3155         float64\n",
       "features_3156         float64\n",
       "features_3157          object\n",
       "features_3158          object\n",
       "features_3159          object\n",
       "features_3160          object\n",
       "features_3161           int64\n",
       "features_3162           int64\n",
       "features_3163         float64\n",
       "features_3164         float64\n",
       "features_3165           int64\n",
       "features_3166           int64\n",
       "features_3167         float64\n",
       "features_3168           int64\n",
       "dtype: object"
      ]
     },
     "execution_count": 16,
     "metadata": {},
     "output_type": "execute_result"
    }
   ],
   "source": [
    "medical.dtypes"
   ]
  },
  {
   "cell_type": "code",
   "execution_count": 17,
   "metadata": {},
   "outputs": [
    {
     "name": "stdout",
     "output_type": "stream",
     "text": [
      "Number of levels in category 'Molecule_max_phase': \b 5.00 \n",
      "Number of levels in category 'RO5_violations': \b 5.00 \n"
     ]
    }
   ],
   "source": [
    "for cat in ['Molecule_max_phase', 'RO5_violations']:\n",
    "    print(\"Number of levels in category '{0}': \\b {1:2.2f} \".format(cat, medical[cat].unique().size))\n"
   ]
  },
  {
   "cell_type": "code",
   "execution_count": 18,
   "metadata": {
    "scrolled": true
   },
   "outputs": [
    {
     "data": {
      "text/plain": [
       "ID                    False\n",
       "Molecule_max_phase    False\n",
       "Molecular weight      False\n",
       "RO5_violations        False\n",
       "AlogP                 False\n",
       "Label                 False\n",
       "features_5            False\n",
       "features_7            False\n",
       "features_8            False\n",
       "features_9            False\n",
       "features_10           False\n",
       "features_11           False\n",
       "features_12           False\n",
       "features_3152         False\n",
       "features_3153         False\n",
       "features_3154         False\n",
       "features_3155         False\n",
       "features_3156         False\n",
       "features_3157         False\n",
       "features_3158         False\n",
       "features_3159         False\n",
       "features_3160         False\n",
       "features_3161         False\n",
       "features_3162         False\n",
       "features_3163         False\n",
       "features_3164         False\n",
       "features_3165         False\n",
       "features_3166         False\n",
       "features_3167         False\n",
       "features_3168         False\n",
       "dtype: bool"
      ]
     },
     "execution_count": 18,
     "metadata": {},
     "output_type": "execute_result"
    }
   ],
   "source": [
    "medical = medical.fillna(-999)\n",
    "pd.isnull(medical).any()"
   ]
  },
  {
   "cell_type": "markdown",
   "metadata": {},
   "source": [
    "#### 去掉不相关特征"
   ]
  },
  {
   "cell_type": "code",
   "execution_count": 19,
   "metadata": {},
   "outputs": [
    {
     "data": {
      "text/plain": [
       "Molecule_max_phase    False\n",
       "Molecular weight      False\n",
       "RO5_violations        False\n",
       "AlogP                 False\n",
       "features_5            False\n",
       "features_7            False\n",
       "features_8            False\n",
       "features_9            False\n",
       "features_10           False\n",
       "features_11           False\n",
       "features_12           False\n",
       "features_3152         False\n",
       "features_3153         False\n",
       "features_3154         False\n",
       "features_3155         False\n",
       "features_3156         False\n",
       "features_3157         False\n",
       "features_3158         False\n",
       "features_3159         False\n",
       "features_3160         False\n",
       "features_3161         False\n",
       "features_3162         False\n",
       "features_3163         False\n",
       "features_3164         False\n",
       "features_3165         False\n",
       "features_3166         False\n",
       "features_3167         False\n",
       "features_3168         False\n",
       "dtype: bool"
      ]
     },
     "execution_count": 19,
     "metadata": {},
     "output_type": "execute_result"
    }
   ],
   "source": [
    "medical_new = medical.drop(['ID','Label'], axis=1)\n",
    "medical_new = medical_new.fillna(-999)\n",
    "pd.isnull(medical_new).any()"
   ]
  },
  {
   "cell_type": "code",
   "execution_count": 20,
   "metadata": {},
   "outputs": [
    {
     "data": {
      "text/plain": [
       "(6924, 28)"
      ]
     },
     "execution_count": 20,
     "metadata": {},
     "output_type": "execute_result"
    }
   ],
   "source": [
    "medical_new = np.array(medical_new.values,dtype=float)\n",
    "medical_new.shape"
   ]
  },
  {
   "cell_type": "code",
   "execution_count": 21,
   "metadata": {},
   "outputs": [
    {
     "data": {
      "text/plain": [
       "dtype('float64')"
      ]
     },
     "execution_count": 21,
     "metadata": {},
     "output_type": "execute_result"
    }
   ],
   "source": [
    "# medical_new.astype(float)\n",
    "medical_new.dtype"
   ]
  },
  {
   "cell_type": "code",
   "execution_count": 22,
   "metadata": {},
   "outputs": [],
   "source": [
    "np.isnan(medical_new)\n",
    "medical_new[np.isnan(medical_new)] = -999"
   ]
  },
  {
   "cell_type": "code",
   "execution_count": 23,
   "metadata": {},
   "outputs": [
    {
     "data": {
      "text/plain": [
       "array([[False, False, False, ..., False, False, False],\n",
       "       [False, False, False, ..., False, False, False],\n",
       "       [False, False, False, ..., False, False, False],\n",
       "       ...,\n",
       "       [False, False, False, ..., False, False, False],\n",
       "       [False, False, False, ..., False, False, False],\n",
       "       [False, False, False, ..., False, False, False]])"
      ]
     },
     "execution_count": 23,
     "metadata": {},
     "output_type": "execute_result"
    }
   ],
   "source": [
    "np.isnan(medical_new)"
   ]
  },
  {
   "cell_type": "code",
   "execution_count": 24,
   "metadata": {
    "scrolled": false
   },
   "outputs": [
    {
     "data": {
      "text/plain": [
       "(6924, 28)"
      ]
     },
     "execution_count": 24,
     "metadata": {},
     "output_type": "execute_result"
    }
   ],
   "source": [
    "medical_new.shape"
   ]
  },
  {
   "cell_type": "code",
   "execution_count": 25,
   "metadata": {},
   "outputs": [
    {
     "data": {
      "text/plain": [
       "array([ 3.19047635,  9.74096862, 10.54534144, ..., 18.6113011 ,\n",
       "        2.50143595,  0.04879016])"
      ]
     },
     "execution_count": 25,
     "metadata": {},
     "output_type": "execute_result"
    }
   ],
   "source": [
    "medical_label = medical['Label'].values\n",
    "# medical_label = medical_label[:,np.newaxis]\n",
    "medical_label"
   ]
  },
  {
   "cell_type": "markdown",
   "metadata": {},
   "source": [
    "## 使用TPOT进行数据分析"
   ]
  },
  {
   "cell_type": "code",
   "execution_count": 27,
   "metadata": {},
   "outputs": [
    {
     "data": {
      "text/plain": [
       "((750, 28), (250, 28), 750, 250)"
      ]
     },
     "execution_count": 27,
     "metadata": {},
     "output_type": "execute_result"
    }
   ],
   "source": [
    "X_train, X_test, y_train, y_test = train_test_split(medical_new[:1000],medical_label[:1000],\n",
    "                                                    train_size=0.75, test_size=0.25, random_state=42)\n",
    "X_train.shape, X_test.shape, y_train.size, y_test.size"
   ]
  },
  {
   "cell_type": "code",
   "execution_count": 28,
   "metadata": {},
   "outputs": [
    {
     "data": {
      "application/vnd.jupyter.widget-view+json": {
       "model_id": "",
       "version_major": 2,
       "version_minor": 0
      },
      "text/plain": [
       "HBox(children=(FloatProgress(value=0.0, description='Optimization Progress', max=300.0, style=ProgressStyle(de…"
      ]
     },
     "metadata": {},
     "output_type": "display_data"
    },
    {
     "name": "stdout",
     "output_type": "stream",
     "text": [
      "Generation 1 - Current best internal CV score: -16.571675001758944\n",
      "Generation 2 - Current best internal CV score: -16.164681434920954\n",
      "Generation 3 - Current best internal CV score: -16.09442069515546\n",
      "Generation 4 - Current best internal CV score: -16.09167945001971\n",
      "Generation 5 - Current best internal CV score: -15.981117264229795\n",
      "\n",
      "Best pipeline: ExtraTreesRegressor(input_matrix, bootstrap=True, max_features=0.5, min_samples_leaf=1, min_samples_split=2, n_estimators=100)\n",
      "-13.32962215559516\n"
     ]
    }
   ],
   "source": [
    "tpot = TPOTRegressor(generations=5, population_size=50, verbosity=2, random_state=42)\n",
    "tpot.fit(X_train, y_train)\n",
    "print(tpot.score(X_test, y_test))\n",
    "tpot.export('tpot_medical_pipeline_fenlie1.py')"
   ]
  },
  {
   "cell_type": "markdown",
   "metadata": {},
   "source": [
    "medical_new = medical.drop(['ID','Label'], axis=1)"
   ]
  }
 ],
 "metadata": {
  "kernelspec": {
   "display_name": "Python 3",
   "language": "python",
   "name": "python3"
  },
  "language_info": {
   "codemirror_mode": {
    "name": "ipython",
    "version": 3
   },
   "file_extension": ".py",
   "mimetype": "text/x-python",
   "name": "python",
   "nbconvert_exporter": "python",
   "pygments_lexer": "ipython3",
   "version": "3.7.0"
  }
 },
 "nbformat": 4,
 "nbformat_minor": 2
}
